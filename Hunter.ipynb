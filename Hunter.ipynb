{
 "cells": [
  {
   "cell_type": "code",
   "execution_count": 1,
   "metadata": {},
   "outputs": [],
   "source": [
    "import pandas as pd"
   ]
  },
  {
   "cell_type": "code",
   "execution_count": 2,
   "metadata": {},
   "outputs": [],
   "source": [
    "# https://www.txlottery.org/export/sites/lottery/Games/Powerball/Winning_Numbers/index.html_1444349437.html"
   ]
  },
  {
   "cell_type": "code",
   "execution_count": 12,
   "metadata": {},
   "outputs": [
    {
     "data": {
      "text/html": [
       "<div>\n",
       "<style scoped>\n",
       "    .dataframe tbody tr th:only-of-type {\n",
       "        vertical-align: middle;\n",
       "    }\n",
       "\n",
       "    .dataframe tbody tr th {\n",
       "        vertical-align: top;\n",
       "    }\n",
       "\n",
       "    .dataframe thead th {\n",
       "        text-align: right;\n",
       "    }\n",
       "</style>\n",
       "<table border=\"1\" class=\"dataframe\">\n",
       "  <thead>\n",
       "    <tr style=\"text-align: right;\">\n",
       "      <th></th>\n",
       "      <th>draw_date</th>\n",
       "      <th>powerball</th>\n",
       "      <th>power_play</th>\n",
       "      <th>estimated_jackpot</th>\n",
       "      <th>jackpot_winner</th>\n",
       "      <th>jackpot_option</th>\n",
       "    </tr>\n",
       "  </thead>\n",
       "  <tbody>\n",
       "    <tr>\n",
       "      <th>0</th>\n",
       "      <td>04/27/2019</td>\n",
       "      <td>6</td>\n",
       "      <td>3</td>\n",
       "      <td>$166 Million</td>\n",
       "      <td>Roll</td>\n",
       "      <td>NaN</td>\n",
       "    </tr>\n",
       "    <tr>\n",
       "      <th>1</th>\n",
       "      <td>04/24/2019</td>\n",
       "      <td>4</td>\n",
       "      <td>5</td>\n",
       "      <td>$150 Million</td>\n",
       "      <td>Roll</td>\n",
       "      <td>NaN</td>\n",
       "    </tr>\n",
       "    <tr>\n",
       "      <th>2</th>\n",
       "      <td>04/20/2019</td>\n",
       "      <td>1</td>\n",
       "      <td>3</td>\n",
       "      <td>$136 Million</td>\n",
       "      <td>Roll</td>\n",
       "      <td>NaN</td>\n",
       "    </tr>\n",
       "    <tr>\n",
       "      <th>3</th>\n",
       "      <td>04/17/2019</td>\n",
       "      <td>15</td>\n",
       "      <td>3</td>\n",
       "      <td>$118 Million</td>\n",
       "      <td>Roll</td>\n",
       "      <td>NaN</td>\n",
       "    </tr>\n",
       "    <tr>\n",
       "      <th>4</th>\n",
       "      <td>04/13/2019</td>\n",
       "      <td>10</td>\n",
       "      <td>2</td>\n",
       "      <td>$101 Million</td>\n",
       "      <td>Roll</td>\n",
       "      <td>NaN</td>\n",
       "    </tr>\n",
       "  </tbody>\n",
       "</table>\n",
       "</div>"
      ],
      "text/plain": [
       "    draw_date powerball power_play estimated_jackpot jackpot_winner  \\\n",
       "0  04/27/2019         6          3      $166 Million           Roll   \n",
       "1  04/24/2019         4          5      $150 Million           Roll   \n",
       "2  04/20/2019         1          3      $136 Million           Roll   \n",
       "3  04/17/2019        15          3      $118 Million           Roll   \n",
       "4  04/13/2019        10          2      $101 Million           Roll   \n",
       "\n",
       "  jackpot_option  \n",
       "0            NaN  \n",
       "1            NaN  \n",
       "2            NaN  \n",
       "3            NaN  \n",
       "4            NaN  "
      ]
     },
     "execution_count": 12,
     "metadata": {},
     "output_type": "execute_result"
    }
   ],
   "source": [
    "# 4 Mars Facts - table containing facts about the planet including Diameter, Mass, etc.\n",
    "\n",
    "texas_url = \"https://www.txlottery.org/export/sites/lottery/Games/Powerball/Winning_Numbers/index.html_1444349437.html\"\n",
    "\n",
    "texas_data = pd.read_html(texas_url)\n",
    "# texas_df = pd.DataFrame(texas_data)\n",
    "# texas_df.head()\n",
    "texas_df = texas_data[0]\n",
    "texas_df.columns\n",
    "\n",
    "texas_df.rename(columns={'Draw Date':'draw_date', 'Winning Numbers':'winning_numbers', 'Powerball':'powerball', 'Power Play':'power_play','Estimated Jackpot':'estimated_jackpot', 'Jackpot Winners':'jackpot_winner', 'Jackpot Option':'jackpot_option'}, inplace=True)\n",
    "\n",
    "new_df = texas_df.drop(columns=['winning_numbers'])\n",
    "new_df.head()\n",
    "\n",
    "\n",
    "\n",
    "\n",
    "\n"
   ]
  },
  {
   "cell_type": "code",
   "execution_count": 6,
   "metadata": {},
   "outputs": [],
   "source": [
    "state_url = 'https://www.powerball.net/winners'"
   ]
  },
  {
   "cell_type": "code",
   "execution_count": null,
   "metadata": {},
   "outputs": [],
   "source": [
    "state_data = pd.read_html(state_url)\n",
    "state_data[0]"
   ]
  },
  {
   "cell_type": "code",
   "execution_count": null,
   "metadata": {},
   "outputs": [],
   "source": [
    "wisconsin = 'https://www.wilottery.com/lottogames/powerballhistoryOD.aspx'"
   ]
  },
  {
   "cell_type": "code",
   "execution_count": null,
   "metadata": {},
   "outputs": [],
   "source": [
    "wisconsin_data = pd.read_html(wisconsin)\n",
    "wisconsin_data[0]"
   ]
  },
  {
   "cell_type": "code",
   "execution_count": null,
   "metadata": {},
   "outputs": [],
   "source": [
    "winning_state_url = 'http://portalseven.com/lottery/powerball_jackpot_winners.jsp'\n",
    "    \n",
    "winning_state = pd.read_html(winning_state_url)[2]\n",
    "winning_state"
   ]
  },
  {
   "cell_type": "code",
   "execution_count": null,
   "metadata": {},
   "outputs": [],
   "source": []
  },
  {
   "cell_type": "code",
   "execution_count": null,
   "metadata": {},
   "outputs": [],
   "source": []
  }
 ],
 "metadata": {
  "kernelspec": {
   "display_name": "Python 3",
   "language": "python",
   "name": "python3"
  },
  "language_info": {
   "codemirror_mode": {
    "name": "ipython",
    "version": 3
   },
   "file_extension": ".py",
   "mimetype": "text/x-python",
   "name": "python",
   "nbconvert_exporter": "python",
   "pygments_lexer": "ipython3",
   "version": "3.6.8"
  }
 },
 "nbformat": 4,
 "nbformat_minor": 2
}
