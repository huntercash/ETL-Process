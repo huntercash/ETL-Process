{
 "cells": [
  {
   "cell_type": "markdown",
   "metadata": {
    "slideshow": {
     "slide_type": "slide"
    }
   },
   "source": [
    "# ETL Project\n",
    "\n",
    "Use Pandas scraping to help ..."
   ]
  },
  {
   "cell_type": "code",
   "execution_count": 1,
   "metadata": {
    "slideshow": {
     "slide_type": "slide"
    }
   },
   "outputs": [],
   "source": [
    "import pandas as pd\n",
    "import os\n",
    "import time\n",
    "from bs4 import BeautifulSoup as bs\n",
    "from selenium import webdriver\n",
    "import requests\n",
    "from splinter import Browser\n",
    "from splinter.exceptions import ElementDoesNotExist"
   ]
  },
  {
   "cell_type": "code",
   "execution_count": 2,
   "metadata": {
    "slideshow": {
     "slide_type": "fragment"
    }
   },
   "outputs": [
    {
     "data": {
      "text/plain": [
       "[                                                   0  \\\n",
       " 0                                                NaN   \n",
       " 1  Mega Millions - 2019 - $2 Per Ticket Total Tic...   \n",
       " 2                                               Date   \n",
       " 3  05/03/19 04/30/19 04/26/19 04/23/19 04/19/19 0...   \n",
       " \n",
       "                                                    1  \\\n",
       " 0                                                NaN   \n",
       " 1  Powerball - 2019 - $2 Per Ticket Total Tickets...   \n",
       " 2  MM & JJ - # of Tickets Sold Includes \"Just the...   \n",
       " 3  ?? 16,295,730 15,813,941 14,374,120 14,198,136...   \n",
       " \n",
       "                                                    2  \\\n",
       " 0                                                NaN   \n",
       " 1                                                NaN   \n",
       " 2                                 Jackpot (Millions)   \n",
       " 3  $252 $229 $212 $192 $175 $157 $140 $120 $104 $...   \n",
       " \n",
       "                                                    3  \\\n",
       " 0                                                NaN   \n",
       " 1                                                NaN   \n",
       " 2                                               Date   \n",
       " 3  05/04/19 05/01/19 04/27/19 04/24/19 04/20/19 0...   \n",
       " \n",
       "                                                    4  \\\n",
       " 0                                                NaN   \n",
       " 1                                                NaN   \n",
       " 2                                  # of Tickets Sold   \n",
       " 3  ?? ?? 17,204,152 15,122,600 16,422,502 14,472,...   \n",
       " \n",
       "                                                    5  \n",
       " 0                                                NaN  \n",
       " 1                                                NaN  \n",
       " 2                                 Jackpot (Millions)  \n",
       " 3  $ $181 $166 $150 $136 $118 $101 $84 $68 $54 $4...  ]"
      ]
     },
     "execution_count": 2,
     "metadata": {},
     "output_type": "execute_result"
    }
   ],
   "source": [
    "##sales data\n",
    "url = \"http://www.lottoreport.com/ticketcomparison.htm\"\n",
    "tables = pd.read_html(url)\n",
    "tables"
   ]
  },
  {
   "cell_type": "code",
   "execution_count": 6,
   "metadata": {},
   "outputs": [
    {
     "data": {
      "text/html": [
       "<div>\n",
       "<style scoped>\n",
       "    .dataframe tbody tr th:only-of-type {\n",
       "        vertical-align: middle;\n",
       "    }\n",
       "\n",
       "    .dataframe tbody tr th {\n",
       "        vertical-align: top;\n",
       "    }\n",
       "\n",
       "    .dataframe thead th {\n",
       "        text-align: right;\n",
       "    }\n",
       "</style>\n",
       "<table border=\"1\" class=\"dataframe\">\n",
       "  <thead>\n",
       "    <tr style=\"text-align: right;\">\n",
       "      <th></th>\n",
       "      <th>0</th>\n",
       "      <th>1</th>\n",
       "      <th>2</th>\n",
       "      <th>3</th>\n",
       "      <th>4</th>\n",
       "      <th>5</th>\n",
       "    </tr>\n",
       "  </thead>\n",
       "  <tbody>\n",
       "    <tr>\n",
       "      <th>0</th>\n",
       "      <td>NaN</td>\n",
       "      <td>NaN</td>\n",
       "      <td>NaN</td>\n",
       "      <td>NaN</td>\n",
       "      <td>NaN</td>\n",
       "      <td>NaN</td>\n",
       "    </tr>\n",
       "    <tr>\n",
       "      <th>1</th>\n",
       "      <td>Mega Millions - 2019 - $2 Per Ticket Total Tic...</td>\n",
       "      <td>Powerball - 2019 - $2 Per Ticket Total Tickets...</td>\n",
       "      <td>NaN</td>\n",
       "      <td>NaN</td>\n",
       "      <td>NaN</td>\n",
       "      <td>NaN</td>\n",
       "    </tr>\n",
       "    <tr>\n",
       "      <th>2</th>\n",
       "      <td>Date</td>\n",
       "      <td>MM &amp; JJ - # of Tickets Sold Includes \"Just the...</td>\n",
       "      <td>Jackpot (Millions)</td>\n",
       "      <td>Date</td>\n",
       "      <td># of Tickets Sold</td>\n",
       "      <td>Jackpot (Millions)</td>\n",
       "    </tr>\n",
       "    <tr>\n",
       "      <th>3</th>\n",
       "      <td>05/03/19 04/30/19 04/26/19 04/23/19 04/19/19 0...</td>\n",
       "      <td>?? 16,295,730 15,813,941 14,374,120 14,198,136...</td>\n",
       "      <td>$252 $229 $212 $192 $175 $157 $140 $120 $104 $...</td>\n",
       "      <td>05/04/19 05/01/19 04/27/19 04/24/19 04/20/19 0...</td>\n",
       "      <td>?? ?? 17,204,152 15,122,600 16,422,502 14,472,...</td>\n",
       "      <td>$ $181 $166 $150 $136 $118 $101 $84 $68 $54 $4...</td>\n",
       "    </tr>\n",
       "  </tbody>\n",
       "</table>\n",
       "</div>"
      ],
      "text/plain": [
       "                                                   0  \\\n",
       "0                                                NaN   \n",
       "1  Mega Millions - 2019 - $2 Per Ticket Total Tic...   \n",
       "2                                               Date   \n",
       "3  05/03/19 04/30/19 04/26/19 04/23/19 04/19/19 0...   \n",
       "\n",
       "                                                   1  \\\n",
       "0                                                NaN   \n",
       "1  Powerball - 2019 - $2 Per Ticket Total Tickets...   \n",
       "2  MM & JJ - # of Tickets Sold Includes \"Just the...   \n",
       "3  ?? 16,295,730 15,813,941 14,374,120 14,198,136...   \n",
       "\n",
       "                                                   2  \\\n",
       "0                                                NaN   \n",
       "1                                                NaN   \n",
       "2                                 Jackpot (Millions)   \n",
       "3  $252 $229 $212 $192 $175 $157 $140 $120 $104 $...   \n",
       "\n",
       "                                                   3  \\\n",
       "0                                                NaN   \n",
       "1                                                NaN   \n",
       "2                                               Date   \n",
       "3  05/04/19 05/01/19 04/27/19 04/24/19 04/20/19 0...   \n",
       "\n",
       "                                                   4  \\\n",
       "0                                                NaN   \n",
       "1                                                NaN   \n",
       "2                                  # of Tickets Sold   \n",
       "3  ?? ?? 17,204,152 15,122,600 16,422,502 14,472,...   \n",
       "\n",
       "                                                   5  \n",
       "0                                                NaN  \n",
       "1                                                NaN  \n",
       "2                                 Jackpot (Millions)  \n",
       "3  $ $181 $166 $150 $136 $118 $101 $84 $68 $54 $4...  "
      ]
     },
     "execution_count": 6,
     "metadata": {},
     "output_type": "execute_result"
    }
   ],
   "source": [
    "df = tables[0]\n",
    "\n",
    "df.head(20)"
   ]
  },
  {
   "cell_type": "code",
   "execution_count": 10,
   "metadata": {},
   "outputs": [
    {
     "data": {
      "text/html": [
       "<div>\n",
       "<style scoped>\n",
       "    .dataframe tbody tr th:only-of-type {\n",
       "        vertical-align: middle;\n",
       "    }\n",
       "\n",
       "    .dataframe tbody tr th {\n",
       "        vertical-align: top;\n",
       "    }\n",
       "\n",
       "    .dataframe thead th {\n",
       "        text-align: right;\n",
       "    }\n",
       "</style>\n",
       "<table border=\"1\" class=\"dataframe\">\n",
       "  <thead>\n",
       "    <tr style=\"text-align: right;\">\n",
       "      <th></th>\n",
       "      <th>Date</th>\n",
       "      <th>Number of Tickets Sold</th>\n",
       "      <th>Jackpot (Millions)</th>\n",
       "    </tr>\n",
       "  </thead>\n",
       "  <tbody>\n",
       "    <tr>\n",
       "      <th>0</th>\n",
       "      <td>2019-04-27</td>\n",
       "      <td>17204152</td>\n",
       "      <td>166.0</td>\n",
       "    </tr>\n",
       "    <tr>\n",
       "      <th>1</th>\n",
       "      <td>2019-04-24</td>\n",
       "      <td>15122600</td>\n",
       "      <td>150.0</td>\n",
       "    </tr>\n",
       "    <tr>\n",
       "      <th>2</th>\n",
       "      <td>2019-04-20</td>\n",
       "      <td>16422502</td>\n",
       "      <td>136.0</td>\n",
       "    </tr>\n",
       "    <tr>\n",
       "      <th>3</th>\n",
       "      <td>2019-04-17</td>\n",
       "      <td>14472208</td>\n",
       "      <td>118.0</td>\n",
       "    </tr>\n",
       "    <tr>\n",
       "      <th>4</th>\n",
       "      <td>2019-04-13</td>\n",
       "      <td>15663006</td>\n",
       "      <td>101.0</td>\n",
       "    </tr>\n",
       "  </tbody>\n",
       "</table>\n",
       "</div>"
      ],
      "text/plain": [
       "        Date Number of Tickets Sold  Jackpot (Millions)\n",
       "0 2019-04-27               17204152               166.0\n",
       "1 2019-04-24               15122600               150.0\n",
       "2 2019-04-20               16422502               136.0\n",
       "3 2019-04-17               14472208               118.0\n",
       "4 2019-04-13               15663006               101.0"
      ]
     },
     "execution_count": 10,
     "metadata": {},
     "output_type": "execute_result"
    }
   ],
   "source": [
    "sales_file = \"./data/powerball_sales.xlsx\"\n",
    "sales_df = pd.read_excel(sales_file)\n",
    "\n",
    "sales_df.head()"
   ]
  },
  {
   "cell_type": "code",
   "execution_count": null,
   "metadata": {},
   "outputs": [],
   "source": []
  }
 ],
 "metadata": {
  "celltoolbar": "Create Assignment",
  "kernelspec": {
   "display_name": "Python 3",
   "language": "python",
   "name": "python3"
  },
  "language_info": {
   "codemirror_mode": {
    "name": "ipython",
    "version": 3
   },
   "file_extension": ".py",
   "mimetype": "text/x-python",
   "name": "python",
   "nbconvert_exporter": "python",
   "pygments_lexer": "ipython3",
   "version": "3.7.1"
  },
  "varInspector": {
   "cols": {
    "lenName": 16,
    "lenType": 16,
    "lenVar": 40
   },
   "kernels_config": {
    "python": {
     "delete_cmd_postfix": "",
     "delete_cmd_prefix": "del ",
     "library": "var_list.py",
     "varRefreshCmd": "print(var_dic_list())"
    },
    "r": {
     "delete_cmd_postfix": ") ",
     "delete_cmd_prefix": "rm(",
     "library": "var_list.r",
     "varRefreshCmd": "cat(var_dic_list()) "
    }
   },
   "types_to_exclude": [
    "module",
    "function",
    "builtin_function_or_method",
    "instance",
    "_Feature"
   ],
   "window_display": false
  }
 },
 "nbformat": 4,
 "nbformat_minor": 2
}
