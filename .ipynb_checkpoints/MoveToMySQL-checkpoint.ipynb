{
 "cells": [
  {
   "cell_type": "code",
   "execution_count": 7,
   "metadata": {},
   "outputs": [],
   "source": [
    "import pandas as pd\n",
    "from sqlalchemy import create_engine\n",
    "import mysql.connector\n",
    "SQLUSER = 'root'\n",
    "SQLPASS = 'Lefthand220!'\n",
    "SQLHOST = 'localhost'\n",
    "SQLPORT = '3306'\n",
    "engine = create_engine(f'mysql+mysqlconnector://{SQLUSER}:{SQLPASS}@{SQLHOST}:{SQLPORT}')\n",
    "conn = engine.connect()\n",
    "conn.execute('DROP DATABASE IF EXISTS lottery;')\n",
    "conn.execute(\"CREATE DATABASE lottery\")\n",
    "lottery_database = engine.execute(\"USE lottery;\")\n",
    "#df.to_sql(name='powerball', con=engine, if_exists = 'replace', index=True)\n",
    "#data = pd.read_sql('SELECT * FROM powerball', engine)"
   ]
  },
  {
   "cell_type": "code",
   "execution_count": null,
   "metadata": {},
   "outputs": [],
   "source": []
  }
 ],
 "metadata": {
  "kernelspec": {
   "display_name": "Python 3",
   "language": "python",
   "name": "python3"
  },
  "language_info": {
   "codemirror_mode": {
    "name": "ipython",
    "version": 3
   },
   "file_extension": ".py",
   "mimetype": "text/x-python",
   "name": "python",
   "nbconvert_exporter": "python",
   "pygments_lexer": "ipython3",
   "version": "3.6.8"
  }
 },
 "nbformat": 4,
 "nbformat_minor": 2
}
